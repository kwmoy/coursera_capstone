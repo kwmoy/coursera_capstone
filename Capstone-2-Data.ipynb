{
 "cells": [
  {
   "cell_type": "markdown",
   "metadata": {},
   "source": [
    "# IBM Data Science Capstone Project - Kevin Moy\n",
    "### Contacting Kevin Moy\n",
    "Please contact Kevin Moy with feedback or just to chat!:\n",
    "\n",
    "<b>LinkedIn</b> <a href=\"https://www.linkedin.com/in/kevin-moy/\">https://www.linkedin.com/in/kevin-moy/</a>\n",
    "\n",
    "<b>E-mail</b> <a href=\"mailto:kmoy1@terpmail.umd.edu\">kmoy1@terpmail.umd.edu</a>\n",
    "\n",
    "# Data"
   ]
  },
  {
   "cell_type": "markdown",
   "metadata": {},
   "source": [
    "### About the Course\n",
    "This notebook is the Data Science Capstone project for the IBM Data Science Certificate. The official prompt is printed below: \n",
    "\n",
    "\"_Now that you have been equipped with the skills and the tools to use location data to explore a geographical location, over the course of two weeks, you will have the opportunity to be as creative as you want and come up with an idea to leverage the Foursquare location data to explore or compare neighborhoods or cities of your choice or to come up with a problem that you can use the Foursquare location data to solve. If you cannot think of an idea or a problem, here are some ideas to get you started:_\n",
    "\n",
    "_In Module 3, we explored New York City and the city of Toronto and segmented and clustered their neighborhoods. Both cities are very diverse and are the financial capitals of their respective countries. One interesting idea would be to compare the neighborhoods of the two cities and determine how similar or dissimilar they are. Is New York City more like Toronto or Paris or some other multicultural city? I will leave it to you to refine this idea._\n",
    "_In a city of your choice, if someone is looking to open a restaurant, where would you recommend that they open it? Similarly, if a contractor is trying to start their own business, where would you recommend that they setup their office?_\""
   ]
  },
  {
   "cell_type": "markdown",
   "metadata": {},
   "source": [
    "### Data Explanation and Discussion, with Examples\n",
    "In general, the datasets used will answer the following question:\n",
    "\n",
    "**Which areas of Toronto are in the highest need of Youth Recreation / Community Centers? Highest need is defined as:**\n",
    "\n",
    "    1. High population density\n",
    "    2. Low Density of Youth Recreation / Community Centers\n",
    "    3. High Crime Rates\n",
    "\n",
    "\n",
    "#### Datasets:\n",
    "\n",
    "1. Foursquare Toronto Establishments, <a href=\"https://www.foursquare.com\">WEBSITE</a>\n",
    "    1. Foursquare provides location data for establishments, including community centers. Meta data includes latitude, longitude, and the category of establishment, which can be used to find relevant Youth Recreation / Community Centers.\n",
    "    2. Example: YMCA is considered a Gym in Toronto, with Latitude/Longitude available\n",
    "    3. Example: Waterfront Neighbourhood Centre is a \"Community Center\" and \"Event Space\"\n",
    "    4. Example: Stephen Leacock Community Centre is a \"Community Center\"\n",
    "    \n",
    "    \n",
    "2. Wikipedia List of Neighbourhoods in Toronto, <a href=\"https://en.wikipedia.org/wiki/List_of_neighbourhoods_in_Toronto#Multiple_listing_service_districts_and_neighbourhoods\">WEBSITE</a>\n",
    "    1. Has a table aligning Toronto's zip codes, and corresponding boroughs and neighborhoods.\n",
    "    2. Example: Postal Code M5J corresponds to Downtown Toronto, Harbourfront East / Union Station / Toronto Islands\n",
    "    \n",
    "    \n",
    "3. Toronto Police Service Neighborhood Crime Rates <a href=\"https://data.torontopolice.on.ca/datasets/af500b5abb7240399853b35a2362d0c0_0?selectedAttribute=Assault_AVG\">WEBSITE</a>\n",
    "    1. The Police Service provides data describing neighborhood location, neighborhood size, and crime rates\n",
    "    2. Meta data includes neighborhood latitude, longitude, yearly or average crime rate, neighborhood population, and neighborhood size.This makes population density an easier task.\n",
    "    3. Example: Neighborhood Yonge-St. Clair has Population 12528, and from 2014-2019 had 31 Assaults, 4.3 Auto Thefts, 23.3 cases of Breaking and Entering, 0 Homicides, 5.7 Robberies, 4.3 Overall Thefts, and an Area without units of 1161315. My guess is that this is square meters.\n",
    "    \n",
    "\n",
    "#### Plan to Transform and Utilize this Data\n",
    "\n",
    "1. Create a unified dataset of Crime/Population, Population Density, and Community Center Density.\n",
    "    1. Narrow Wikipedia's list of neighborhoods to those in Toronto proper, among other requirements\n",
    "    2. Use HOOD_NAME in dataset 3 to connect to Wikipedia's List of Neighborhoods, giving crime and population density a location. Only need Crime / Population and Population Density data.\n",
    "    3. Use FourSquare location data to find categories that may include community / youth centers within 1000 meters of each Neighborhood Center\n",
    "    4. Calculate the Community Center Density in each neighborhood\n",
    "2. With this unified dataset, cluster neighborhoods based on their Crime/Population, Population Density, and Community Center Density stats\n",
    "    1. Analyze and characterize each cluster of neighborhoods.\n",
    "    2. Make a recommendation of which neighborhood and cluster of neighborhoods would benefit most from the YMCA's improvement efforts."
   ]
  },
  {
   "cell_type": "code",
   "execution_count": null,
   "metadata": {},
   "outputs": [],
   "source": []
  }
 ],
 "metadata": {
  "kernelspec": {
   "display_name": "Python",
   "language": "python",
   "name": "conda-env-python-py"
  },
  "language_info": {
   "codemirror_mode": {
    "name": "ipython",
    "version": 3
   },
   "file_extension": ".py",
   "mimetype": "text/x-python",
   "name": "python",
   "nbconvert_exporter": "python",
   "pygments_lexer": "ipython3",
   "version": "3.6.10"
  }
 },
 "nbformat": 4,
 "nbformat_minor": 4
}
