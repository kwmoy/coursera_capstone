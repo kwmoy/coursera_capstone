{
 "cells": [
  {
   "cell_type": "markdown",
   "metadata": {},
   "source": [
    "# IBM Data Science Capstone Project - Kevin Moy\n",
    "### Contacting Kevin Moy\n",
    "Please contact Kevin Moy with feedback or just to chat!:\n",
    "\n",
    "<b>LinkedIn</b> <a href=\"https://www.linkedin.com/in/kevin-moy/\">https://www.linkedin.com/in/kevin-moy/</a>\n",
    "\n",
    "<b>E-mail</b> <a href=\"mailto:kmoy1@terpmail.umd.edu\">kmoy1@terpmail.umd.edu</a>\n"
   ]
  },
  {
   "cell_type": "markdown",
   "metadata": {},
   "source": [
    "# Table of Contents\n",
    "\n",
    "1. [Section 1: About the Course](#s1)\n",
    "2. [Section 2: Introduction and Business Problem](#s2)\n",
    "3. [Section 3: Data](#s3)\n",
    "    1. [Datasets](#s31)\n",
    "    2. [Plan to Transform and Utilize this Data](#s32)\n",
    "4. [Section 4: Methodology](#s4)\n",
    "    1. [Exploratory Data Analysis and Inferential Statistical Testing on Crimes](#s41)\n",
    "    2. [Machine Learning Techniques](#s42)\n",
    "5. [Section 5: Results](#s5)\n",
    "    1. [Results: Exploratory Data Analysis and Inferential Statistical Testing on Crimes](#s51)\n",
    "    2. [Results: Machine Learning Techniques](#s52)\n",
    "6. [Section 6: Discussion](#s6)\n",
    "    1. [Observations](#s61)\n",
    "    2. [Exceptions in Results](#s62)\n",
    "    3. [Recommendations](#s63)\n",
    "7. [Section 7: Conclusion](#s7)"
   ]
  },
  {
   "cell_type": "markdown",
   "metadata": {},
   "source": [
    "## 1. About the Course <a name=\"s1\"></a>\n",
    "This notebook is the Data Science Capstone project for the IBM Data Science Certificate. The official prompt is printed below: \n",
    "\n",
    "\"_Now that you have been equipped with the skills and the tools to use location data to explore a geographical location, over the course of two weeks, you will have the opportunity to be as creative as you want and come up with an idea to leverage the Foursquare location data to explore or compare neighborhoods or cities of your choice or to come up with a problem that you can use the Foursquare location data to solve. If you cannot think of an idea or a problem, here are some ideas to get you started:_\n",
    "\n",
    "_In Module 3, we explored New York City and the city of Toronto and segmented and clustered their neighborhoods. Both cities are very diverse and are the financial capitals of their respective countries. One interesting idea would be to compare the neighborhoods of the two cities and determine how similar or dissimilar they are. Is New York City more like Toronto or Paris or some other multicultural city? I will leave it to you to refine this idea._\n",
    "_In a city of your choice, if someone is looking to open a restaurant, where would you recommend that they open it? Similarly, if a contractor is trying to start their own business, where would you recommend that they setup their office?_\""
   ]
  },
  {
   "cell_type": "markdown",
   "metadata": {},
   "source": [
    "## 2. Introduction and Business Problem <a name=\"s2\"></a>\n",
    "\n",
    "After school programs are thought to improve outcomes for at-risk students, however the effects as documented have been questionable for after school programs in general. <a href=\"https://www.ncbi.nlm.nih.gov/pmc/articles/PMC4597889/\">One meta analysis housed in an NIH library</a> documents the generalized, questionable results. __The client, the YMCA of Greater Toronto, has requested an upcoming Data Scientist, Kevin Moy, to identify an area within the City of Toronto to test a novel youth development center and program. The client identified that this area must be a high-risk area, with access to a large density of at-risk students. If this effort is found to be successful, the program will be expanded to other YMCA of Greater Toronto locations.__\n",
    "\n",
    "Explicitly, the customer here is the YMCA of Greater Toronto, an organization that provides after school programs. Here is their mission statement:\n",
    "\n",
    "\"_The Y is the leading nonprofit committed to strengthening community by connecting all people to their potential, purpose and each other. Working locally, we focus on empowering young people, improving health and well-being and inspiring action in and across communities._\"\n",
    "\n",
    "Furthermore, their <a href=\"https://www.ymca.net/about-us/\">About Us Page</a> describes how the organization aims to bridge the gaps in community needs, further identifying that \"We believe everyone should have the opportunity to learn, grow, and thrive.\" This project serves as a cornerstone project in their mission and business purpose, proving that they are the organization that unequivocally delivers change, contrary to the so-so results from the NIH Library meta analysis."
   ]
  },
  {
   "cell_type": "markdown",
   "metadata": {},
   "source": [
    "## 3. Data <a name=\"s3\"></a>\n",
    "In general, the datasets used will answer the following question:\n",
    "\n",
    "**Which areas of Toronto are in the highest need of Youth Recreation / Community Centers? Highest need is defined as:**\n",
    "\n",
    "    1. High population density\n",
    "    2. Low Density of Youth Recreation / Community Centers\n",
    "    3. High Crime Rates\n",
    "\n",
    "\n",
    "### 3.1 Datasets: <a name=\"s31\"></a>\n",
    "\n",
    "1. Foursquare Toronto Establishments, <a href=\"https://www.foursquare.com\">WEBSITE</a>\n",
    "    1. Foursquare provides location data for establishments, including community centers. Meta data includes latitude, longitude, and the category of establishment, which can be used to find relevant Youth Recreation / Community Centers. Categories will include Community Centers and Gyms.\n",
    "    2. Example: YMCA is considered a Gym in Toronto, with Latitude/Longitude available\n",
    "    3. Example: Waterfront Neighbourhood Centre is a \"Community Center\" and \"Event Space\"\n",
    "    4. Example: Stephen Leacock Community Centre is a \"Community Center\"\n",
    "    \n",
    "    \n",
    "2. List of Neighbourhoods in Toronto, <a href=\"https://open.toronto.ca/dataset/neighbourhoods/\">WEBSITE</a>\n",
    "    1. Has a table aligning Toronto's neighborhoods, and latitude and longitude. This has neighbourhood ID in common with the Toronto Police Service Data set (3, below).\n",
    "    2. Example: Yonge St. Clair neighborhood has a Neighborhood Long Code of 97, at longitude and latitude of -79.3978707687 and 43.687858872, respectively.\n",
    "    \n",
    "    \n",
    "3. Toronto Police Service Neighborhood Crime Rates <a href=\"https://data.torontopolice.on.ca/datasets/af500b5abb7240399853b35a2362d0c0_0?selectedAttribute=Assault_AVG\">WEBSITE</a>\n",
    "    1. The Police Service provides data describing neighborhood location, neighborhood size, and crime rates\n",
    "    2. Meta data includes neighborhood latitude, longitude, yearly or average crime rate, neighborhood population, and neighborhood size.This makes population density an easier task.\n",
    "    3. Example: Neighborhood Yonge-St. Clair has Population 12528, and from 2014-2019 had 31 Assaults, 4.3 Auto Thefts, 23.3 cases of Breaking and Entering, 0 Homicides, 5.7 Robberies, 4.3 Overall Thefts, and an Area without units of 1161315. My guess is that this is square meters.\n",
    "    \n",
    "\n",
    "### 3.2 Plan to Transform and Utilize this Data <a name=\"s32\"></a>\n",
    "\n",
    "1. Create a unified dataset of Crime/Population, Population Density, and Community Center Density.\n",
    "    1. Narrow Neighborhood dataset (2, above) to list neighborhoods and longitude/latitude.\n",
    "    2. Use HOOD_NAME in dataset 3 to connect to the neighborhood dataset (2, above), giving crime and population density a location. Only need Crime / Population and Population Density data.\n",
    "    3. Use FourSquare location data to find categories that may include community / youth centers within 1000 meters of each Neighborhood Center\n",
    "    4. Calculate the Community Center Density in each neighborhood\n",
    "2. With this unified dataset, cluster neighborhoods based on their Crime/Population, Population Density, and Community Center Density stats\n",
    "    1. Analyze and characterize each cluster of neighborhoods.\n",
    "    2. Make a recommendation of which neighborhood and cluster of neighborhoods would benefit most from the YMCA's improvement efforts.\n",
    "    3. See other analysis methods below, in methodology."
   ]
  },
  {
   "cell_type": "markdown",
   "metadata": {},
   "source": [
    "## 4. Methodology <a name=\"s4\"></a>\n",
    "Below, I discuss exploratory data analysis completed, inferential statistical testing performed, and machine learning techniques used, and why. Please look for __bolded__ questions- these are the motivators for the data analysis described right after.\n",
    "\n",
    "### 4.1 Exploratory Data Analysis and Inferential Statistical Testing on Crimes <a name=\"s41\"></a>\n",
    "\n",
    "__Are there standout crime-ridden locations in Toronto that we need to immediately address? (part i)__ We briefly explore distributions of numerical variables on each different type of crime in Toronto.\n",
    "\n",
    "__Developing a measure for crime:__ All crimes are scaled from 0 to 1. However, not all crime is equally disastrous. The model considers homicide to be worth 10x all other crimes in making an area dangerous.\n",
    "\n",
    "__Are there standout crime-ridden locations in Toronto that we need to immediately address? (part ii):__ Using this new measure for crime, we created a box plot to explore the distribution. If there are few outliers on the dangerous side, this makes the first YMCA location an easy choice.\n",
    "\n",
    "__Are youth centers generally established in places of most need?__ Our heat map, relating youth center density with population and crime density, will help us tell if youth center establishment thus far has been a worthy effort. This can help us make our case to the city of Toronto to fund further projects, once this is successful.\n",
    "\n",
    "### 4.2 Machine Learning Techniques <a name=s42></a>\n",
    "\n",
    "__Can we find a cluster of neighborhoods that need YMCAs?__ We cluster neighborhoods based on population density, crime rates, and community centers / youth development centers to find neighborhoods that most desperately need YMCAs.\n"
   ]
  },
  {
   "cell_type": "markdown",
   "metadata": {},
   "source": [
    "## 5. Results <a name=\"s5\"></a>\n",
    "The results presented are direct reflections of the questions in sections 4.1 and 4.2 Please see them below, with explanations.\n",
    "\n",
    "### 5.1 Results: Exploratory Data Analysis and Inferential Statistical Testing on Crimes <a name=\"s51\"></a>\n",
    "\n",
    "__Are there standout crime-ridden locations in Toronto that we need to immediately address? (part i)__ We briefly explore distributions of numerical variables on each different type of crime in Toronto.\n",
    "\n",
    "![alt text](YMCAQ1.JPG \"EDA\")\n",
    "\n",
    "\n",
    "We looked at the distributions of normalized data for each crime type. As stated in the notebook: \n",
    "\n",
    "__Analysis:__ Note: Homicide rate is scaled, but to 10 instead of 1. It seems that all crime except the Auto Theft Rate, has an upper quartile around 20% of the maximum crime rate. Additionally, there are 50+% of neighborhoods with a 0% homicide rate in 2019. The Homicide rate has the largest standard deviation of all crimes.\n",
    "\n",
    "__Takeaways:__ All the crimes are skew right, homicides especially so. There are outliers in every single category (meaning: crime rate > (1.5 * IQR)+ crime rate(@ 75%)). This means Toronto has neighborhoods with standout crime-ridden locations to immediately address. Let's create a single measure to find the most vulnerable locations.\n",
    "\n",
    "-----\n",
    "\n",
    "__Developing a measure for crime:__ All crimes are scaled from 0 to 1. However, not all crime is equally disastrous. The model considers homicide to be worth 10x all other crimes in making an area dangerous.\n",
    "\n",
    "See below commentary for the next question. Thank you.\n",
    "\n",
    "\n",
    "\n",
    "\n",
    "-----\n",
    "\n",
    "__Are there standout crime-ridden locations in Toronto that we need to immediately address? (part ii):__ Using this new measure for crime, we created a box plot to explore the distribution. If there are few outliers on the dangerous side, this makes the first YMCA location an easy choice.\n",
    "\n",
    "![alt text](YMCAQ3.JPG \"EDA\")\n",
    "\n",
    "We make a box plot of the crime scores calculated for every neighborhood:\n",
    "\n",
    "__Analysis:__ The box plot appears to have seven outliers. As expected when analyzing data for each crime type, the data is heavily skew right (up).\n",
    "\n",
    "__Takeaways:__ One neighborhood in particular is greater than 4 standard deviations above the normalized crime_score.\n",
    "\n",
    "-----\n",
    "\n",
    "__Are youth centers generally established in places of most need?__ Our heat map, relating youth center density with population and crime density, will help us tell if youth center establishment thus far has been a worthy effort. This can help us make our case to the city of Toronto to fund further projects, once this is successful.\n",
    "\n",
    "![alt text](YMCAQ4.JPG \"EDA\")\n",
    "\n",
    "__Analysis:__ Community Centers have a small correlation with population density, but no correlation at all with crime.\n",
    "\n",
    "__Conclusion:__ It looks like community centers may be placed where populations are dense, so the at-risk youth may not be served. Let's take a closer look by using clustering.\n",
    "\n",
    "### 5.2 Machine Learning Techniques <a name=\"s52\"></a>\n",
    "\n",
    "__Can we find a cluster of neighborhoods that need YMCAs?__ We cluster neighborhoods based on population density, crime rates, and community centers / youth development centers to find neighborhoods that most desperately need YMCAs.\n",
    "\n",
    "Here is a table summarizing our data. Please see the notebook for further detail.\n",
    "\n"
   ]
  },
  {
   "cell_type": "markdown",
   "metadata": {},
   "source": [
    "Cluster | Good fit? | Crime | Community Centers | Population Density | Color in Map\n",
    "--- | --- | --- | --- | --- | ---\n",
    "0 | No | Low | Average | Average | Purple\n",
    "1 | Very | V. High | Low | Average | Teal\n",
    "2 | Yes | High | Low-Avg | Average | Green\n",
    "3 | No | Average | High | High | Orange\n",
    "4 | No | Low-Avg | None | Low-Avg | Red\n",
    "\n",
    "Associated Map of Clusters:\n",
    "\n",
    "![alt text](YMCAQ5.JPG \"EDA\")"
   ]
  },
  {
   "cell_type": "markdown",
   "metadata": {},
   "source": [
    "__Analysis:__ The table provides analysis through the \"Good Fit?\" column. Using the clustered data, cluster 1 was found to fit well with the YMCA's needs because it had low community center coverage, high crime rates, and moderate population density. In opposition, cluster 4 was a poor fit for the customer needs due to its low-average crime rates and population density.\n",
    "\n",
    "__Conclusion:__ Cluster 1 is the best choice for the YMCA's needs."
   ]
  },
  {
   "cell_type": "markdown",
   "metadata": {},
   "source": [
    "## 6. Discussion <a name=\"s6\"></a>\n",
    "\n"
   ]
  },
  {
   "cell_type": "markdown",
   "metadata": {},
   "source": [
    "Kevin: discuss real world applicability, exceptions in results, sources, future studies\n",
    "\n",
    "### 6.1 Observations <a name=\"s61\"></a>\n",
    "\n",
    "Some observations were included within the data section, for clarity. We observed that, in the section __Are there standout crime-ridden locations in Toronto that we need to immediately address? (part ii):__, that there were indeed seven outlier neighborhoods that seemed to need additional investigation. These outliers on the boxplot were at least two standard deviations above the mean. These neighborhoods would be the ones to look for in our analysis, as we considered other factors.\n",
    "\n",
    "We also looked at the relationships between crime, population, and community center presence. We found that community centers had a small correlation with population density, but not with crime. This meant that we could likely find a neighborhood with high crime, that needed a community center, but we may have to settle for medium or low population density for the purposes of this study.\n",
    "\n",
    "Upon clustering, we found two neighborhoods that were a good fit for the study, cluster 1 and 2.\n",
    "\n",
    "### 6.2 Exceptions in Results <a name=\"s62\"></a>\n",
    "\n",
    "In the table found in section 5.2 of this report, we saw cluster 4 had no community centers, yet had low-average crime. This was an exception that we WOULD expect due to the NIH study previously cited. Future studies may look at reasons why these neighborhoods maintain low-average crime to lower future crime levels in other high-crime neighborhoods.\n",
    "\n",
    "### 6.3 Recommendations <a name=\"s63\"></a>\n",
    "\n",
    "The neighborhood of choice is __Humber Summit__, from cluster 1.\n",
    "\n",
    "__Stakeholder Considerations Shaped Choice:__ We originally heard from our stakeholder that we want a region that has high crime rates, low concentrations of community centers, and high population density. Most importantly, high crime rates. In the analysis of clusters, we discovered that cluster 1 was the best match for our intentions. \n",
    "\n",
    "__Explanation of Choice:__ Humber Summit can benefit from this effort, as it has a 4.63 crime score, and 0 Community Centers from within 1 km from neighborhood center. However, Humber Summit has a low population density (-1 when normalized), but is still sizable for the city.\n",
    "\n",
    "__Alternate YMCA Project Locations:__ A future project is the \"University\" neighborhood, in cluster 1. It has no community centers, and a crime score of 2.35. Its population density is middle-of-the-road, and it is bordered by \"Bay Street Corridor\", also in cluster 1, and \"Kensington Chinatown\", in cluster 2. These two neighborhoods also have above average crime scores, and only one community center within 1 km of neighborhood center. This means that a community center in the University neighborhood may attract the youth from those two neighborhoods as well.\n",
    "\n",
    "__Considerations for Expansion of Study:__ The team believes the results can be expanded to other clusters within Canada and the United States. However, cultural differences will need to be considered for applicability in other countries. Additionally, the initial pilot study involving this novel YMCA program should be tested prior to expansion and expenditure of resources.\n",
    "\n",
    "__Limitations:__ This simple study is limited by a few factors:\n",
    "    1. No gauge for youth-only population: Future studies should utilize census sources to confirm youth populations in recommended areas.\n",
    "    2. Prevention of Crime: Other factors should be investigated for preventing crime. Cluster 5 should be investigated for factors that may contribute to low crime in an area with very sparse community centers. Socioeconomic factors need to be included in that study, in case those are merely upscale neighborhoods."
   ]
  },
  {
   "cell_type": "markdown",
   "metadata": {},
   "source": [
    "## 7. Conclusion <a name=\"s7\"></a>"
   ]
  },
  {
   "cell_type": "markdown",
   "metadata": {},
   "source": [
    "The neighborhood of choice is __Humber Summit__. This is a neighborhood with lower than average population density, but suffers from a crime score of 4.6 standard deviations more than the mean in Toronto. It has 0 community centers within a 1 km radius from neighborhood center.\n",
    "\n",
    "The study considered all crime categories reported by the Toronto Police Service, across agreed upon neighborhoods with the City of Toronto. In addition to crime, population density and community centers were factored into the final choice and decision. Although the study found several outliers in crime score, none neighborhood was the \"perfect storm\". No neighborhood was simultaneously high population density, high crime score, and lacked community centers. In this respect, the City of Toronto has done an excellent job.\n",
    "\n",
    "Two clusters were found as good matches for crime prevention measures. Further research may focus on finding the factors that prevent crime in areas, to apply in those two areas. A combination of community center and other factors, such as public libraries, teacher certifications, and school attendance incentives, may be worth looking into to boost results.\n",
    "\n"
   ]
  }
 ],
 "metadata": {
  "kernelspec": {
   "display_name": "Python",
   "language": "python",
   "name": "conda-env-python-py"
  },
  "language_info": {
   "codemirror_mode": {
    "name": "ipython",
    "version": 3
   },
   "file_extension": ".py",
   "mimetype": "text/x-python",
   "name": "python",
   "nbconvert_exporter": "python",
   "pygments_lexer": "ipython3",
   "version": "3.6.10"
  }
 },
 "nbformat": 4,
 "nbformat_minor": 4
}
