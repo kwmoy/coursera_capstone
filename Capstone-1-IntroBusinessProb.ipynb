{
 "cells": [
  {
   "cell_type": "markdown",
   "metadata": {},
   "source": [
    "# IBM Data Science Capstone Project - Kevin Moy\n",
    "### Contacting Kevin Moy\n",
    "Please contact Kevin Moy with feedback or just to chat!:\n",
    "\n",
    "<b>LinkedIn</b> <a href=\"https://www.linkedin.com/in/kevin-moy/\">https://www.linkedin.com/in/kevin-moy/</a>\n",
    "\n",
    "<b>E-mail</b> <a href=\"mailto:kmoy1@terpmail.umd.edu\">kmoy1@terpmail.umd.edu</a>\n",
    "\n",
    "# Introduction and Business Problem"
   ]
  },
  {
   "cell_type": "markdown",
   "metadata": {},
   "source": [
    "### About the Course\n",
    "This notebook is the Data Science Capstone project for the IBM Data Science Certificate. The official prompt is printed below: \n",
    "\n",
    "\"_Now that you have been equipped with the skills and the tools to use location data to explore a geographical location, over the course of two weeks, you will have the opportunity to be as creative as you want and come up with an idea to leverage the Foursquare location data to explore or compare neighborhoods or cities of your choice or to come up with a problem that you can use the Foursquare location data to solve. If you cannot think of an idea or a problem, here are some ideas to get you started:_\n",
    "\n",
    "_In Module 3, we explored New York City and the city of Toronto and segmented and clustered their neighborhoods. Both cities are very diverse and are the financial capitals of their respective countries. One interesting idea would be to compare the neighborhoods of the two cities and determine how similar or dissimilar they are. Is New York City more like Toronto or Paris or some other multicultural city? I will leave it to you to refine this idea._\n",
    "_In a city of your choice, if someone is looking to open a restaurant, where would you recommend that they open it? Similarly, if a contractor is trying to start their own business, where would you recommend that they setup their office?_\""
   ]
  },
  {
   "cell_type": "markdown",
   "metadata": {},
   "source": [
    "### Business Problem Selected\n",
    "\n",
    "After school programs are thought to improve outcomes for at-risk students, however the effects as documented have been questionable for after school programs in general. <a href=\"https://www.ncbi.nlm.nih.gov/pmc/articles/PMC4597889/\">One meta analysis housed in an NIH library</a> documents the generalized, questionable results. __The client, the YMCA of Greater Toronto, has requested an upcoming Data Scientist, Kevin Moy, to identify an area within the City of Toronto to test a novel youth development center and program. The client identified that this area must be a high-risk area, with access to a large density of at-risk students. If this effort is found to be successful, the program will be expanded to other YMCA of Greater Toronto locations.__\n",
    "\n",
    "Explicitly, the customer here is the YMCA of Greater Toronto, an organization that provides after school programs. Here is their mission statement:\n",
    "\n",
    "\"_The Y is the leading nonprofit committed to strengthening community by connecting all people to their potential, purpose and each other. Working locally, we focus on empowering young people, improving health and well-being and inspiring action in and across communities._\"\n",
    "\n",
    "Furthermore, their <a href=\"https://www.ymca.net/about-us/\">About Us Page</a> describes how the organization aims to bridge the gaps in community needs, further identifying that \"We believe everyone should have the opportunity to learn, grow, and thrive.\" This project serves as a cornerstone project in their mission and business purpose, proving that they are the organization that unequivocally delivers change, contrary to the so-so results from the NIH Library meta analysis."
   ]
  },
  {
   "cell_type": "code",
   "execution_count": null,
   "metadata": {},
   "outputs": [],
   "source": []
  }
 ],
 "metadata": {
  "kernelspec": {
   "display_name": "Python",
   "language": "python",
   "name": "conda-env-python-py"
  },
  "language_info": {
   "codemirror_mode": {
    "name": "ipython",
    "version": 3
   },
   "file_extension": ".py",
   "mimetype": "text/x-python",
   "name": "python",
   "nbconvert_exporter": "python",
   "pygments_lexer": "ipython3",
   "version": "3.6.10"
  }
 },
 "nbformat": 4,
 "nbformat_minor": 4
}
